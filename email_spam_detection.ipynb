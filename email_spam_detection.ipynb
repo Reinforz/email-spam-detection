{
 "cells": [
  {
   "cell_type": "markdown",
   "metadata": {},
   "source": [
    "# Email Spam Detection\n",
    "### Dataset"
   ]
  },
  {
   "cell_type": "code",
   "execution_count": 1,
   "metadata": {},
   "outputs": [
    {
     "data": {
      "text/html": [
       "<div>\n",
       "<style scoped>\n",
       "    .dataframe tbody tr th:only-of-type {\n",
       "        vertical-align: middle;\n",
       "    }\n",
       "\n",
       "    .dataframe tbody tr th {\n",
       "        vertical-align: top;\n",
       "    }\n",
       "\n",
       "    .dataframe thead th {\n",
       "        text-align: right;\n",
       "    }\n",
       "</style>\n",
       "<table border=\"1\" class=\"dataframe\">\n",
       "  <thead>\n",
       "    <tr style=\"text-align: right;\">\n",
       "      <th></th>\n",
       "      <th>text</th>\n",
       "      <th>spam</th>\n",
       "    </tr>\n",
       "  </thead>\n",
       "  <tbody>\n",
       "    <tr>\n",
       "      <th>0</th>\n",
       "      <td>Subject: naturally irresistible your corporate...</td>\n",
       "      <td>1</td>\n",
       "    </tr>\n",
       "    <tr>\n",
       "      <th>1</th>\n",
       "      <td>Subject: the stock trading gunslinger  fanny i...</td>\n",
       "      <td>1</td>\n",
       "    </tr>\n",
       "    <tr>\n",
       "      <th>2</th>\n",
       "      <td>Subject: unbelievable new homes made easy  im ...</td>\n",
       "      <td>1</td>\n",
       "    </tr>\n",
       "    <tr>\n",
       "      <th>3</th>\n",
       "      <td>Subject: 4 color printing special  request add...</td>\n",
       "      <td>1</td>\n",
       "    </tr>\n",
       "    <tr>\n",
       "      <th>4</th>\n",
       "      <td>Subject: do not have money , get software cds ...</td>\n",
       "      <td>1</td>\n",
       "    </tr>\n",
       "    <tr>\n",
       "      <th>...</th>\n",
       "      <td>...</td>\n",
       "      <td>...</td>\n",
       "    </tr>\n",
       "    <tr>\n",
       "      <th>5723</th>\n",
       "      <td>Subject: re : research and development charges...</td>\n",
       "      <td>0</td>\n",
       "    </tr>\n",
       "    <tr>\n",
       "      <th>5724</th>\n",
       "      <td>Subject: re : receipts from visit  jim ,  than...</td>\n",
       "      <td>0</td>\n",
       "    </tr>\n",
       "    <tr>\n",
       "      <th>5725</th>\n",
       "      <td>Subject: re : enron case study update  wow ! a...</td>\n",
       "      <td>0</td>\n",
       "    </tr>\n",
       "    <tr>\n",
       "      <th>5726</th>\n",
       "      <td>Subject: re : interest  david ,  please , call...</td>\n",
       "      <td>0</td>\n",
       "    </tr>\n",
       "    <tr>\n",
       "      <th>5727</th>\n",
       "      <td>Subject: news : aurora 5 . 2 update  aurora ve...</td>\n",
       "      <td>0</td>\n",
       "    </tr>\n",
       "  </tbody>\n",
       "</table>\n",
       "<p>5728 rows × 2 columns</p>\n",
       "</div>"
      ],
      "text/plain": [
       "                                                   text  spam\n",
       "0     Subject: naturally irresistible your corporate...     1\n",
       "1     Subject: the stock trading gunslinger  fanny i...     1\n",
       "2     Subject: unbelievable new homes made easy  im ...     1\n",
       "3     Subject: 4 color printing special  request add...     1\n",
       "4     Subject: do not have money , get software cds ...     1\n",
       "...                                                 ...   ...\n",
       "5723  Subject: re : research and development charges...     0\n",
       "5724  Subject: re : receipts from visit  jim ,  than...     0\n",
       "5725  Subject: re : enron case study update  wow ! a...     0\n",
       "5726  Subject: re : interest  david ,  please , call...     0\n",
       "5727  Subject: news : aurora 5 . 2 update  aurora ve...     0\n",
       "\n",
       "[5728 rows x 2 columns]"
      ]
     },
     "execution_count": 1,
     "metadata": {},
     "output_type": "execute_result"
    }
   ],
   "source": [
    "\n",
    "import numpy as np\n",
    "import pandas as pd\n",
    "from sklearn.model_selection import train_test_split\n",
    "from sklearn.metrics import precision_score\n",
    "from sklearn.metrics import f1_score\n",
    "from sklearn.metrics import recall_score\n",
    "\n",
    "# data from https://www.kaggle.com/datasets/rockinjas123/spam-ham-emails\n",
    "data = pd.read_csv('emails.csv')\n",
    "data\n"
   ]
  },
  {
   "cell_type": "markdown",
   "metadata": {},
   "source": [
    "### Data Pre-Processing"
   ]
  },
  {
   "cell_type": "code",
   "execution_count": 2,
   "metadata": {},
   "outputs": [
    {
     "name": "stdout",
     "output_type": "stream",
     "text": [
      "Rows Before Pre-Pocessing: 5728\n",
      "Rows After Pre-Pocessing: 5695\n"
     ]
    }
   ],
   "source": [
    "print(f\"Rows Before Pre-Pocessing: {len(data.index)}\")\n",
    "\n",
    "# drops duplicate rows. no need to have too many rows of the same values\n",
    "data.drop_duplicates(inplace=True)\n",
    "\n",
    "# since there are only 2 columns if any of them are null then those rows dont serve any functions\n",
    "data.dropna(axis = 'index')\n",
    "\n",
    "print(f\"Rows After Pre-Pocessing: {len(data.index)}\")"
   ]
  },
  {
   "cell_type": "code",
   "execution_count": 3,
   "metadata": {},
   "outputs": [],
   "source": [
    "x = data.text.values\n",
    "y = data.spam.values\n",
    "xTrain, xTest, yTrain, yTest = train_test_split(x, y, train_size = 0.8, stratify = y)"
   ]
  },
  {
   "cell_type": "code",
   "execution_count": 4,
   "metadata": {},
   "outputs": [],
   "source": [
    "from sklearn.feature_extraction.text import CountVectorizer\n",
    "\n",
    "cv = CountVectorizer()\n",
    "\n",
    "# converting word to numbers via counting word frequencies: eg. \"i hate spam. spam is bad\" -> i = 1, hate = 1, spam = 2, is = 1, bad = 1\n",
    "xTrain_cv = cv.fit_transform(xTrain)\n",
    "xTest_cv = cv.transform(xTest)"
   ]
  },
  {
   "cell_type": "markdown",
   "metadata": {},
   "source": [
    "##### Correlation"
   ]
  },
  {
   "cell_type": "code",
   "execution_count": 5,
   "metadata": {},
   "outputs": [
    {
     "data": {
      "text/plain": [
       "00            -0.034400\n",
       "000            0.097711\n",
       "0000           0.116462\n",
       "00000000      -0.013604\n",
       "0000000000     0.026358\n",
       "                 ...   \n",
       "zzmacmac      -0.008329\n",
       "zzn            0.026358\n",
       "zzncacst      -0.011780\n",
       "zzzz           0.047162\n",
       "spam@unique    1.000000\n",
       "Length: 34364, dtype: float64"
      ]
     },
     "execution_count": 5,
     "metadata": {},
     "output_type": "execute_result"
    }
   ],
   "source": [
    "\n",
    "cvDf = pd.DataFrame(xTrain_cv.todense(), columns=cv.get_feature_names_out())\n",
    "cvDf['spam@unique'] = yTrain\n",
    "correlation = cvDf.corrwith(cvDf['spam@unique'])\n",
    "correlation"
   ]
  },
  {
   "cell_type": "code",
   "execution_count": 6,
   "metadata": {},
   "outputs": [
    {
     "data": {
      "image/png": "[encoded data removed]",
      "text/plain": [
       "<Figure size 432x288 with 1 Axes>"
      ]
     },
     "metadata": {
      "needs_background": "light"
     },
     "output_type": "display_data"
    }
   ],
   "source": [
    "import matplotlib.pyplot as plt\n",
    "\n",
    "N, bins, patches  = plt.hist(correlation)\n",
    "\n",
    "\n",
    "patches[1].set_facecolor('blue')\n",
    "patches[2].set_facecolor('green')\n",
    "patches[3].set_facecolor('red')\n",
    "# rest are default colors\n",
    "\n",
    "plt.xlabel('Correlation')\n",
    "plt.ylabel('Count of columns')\n",
    "plt.title('Count of columns in each correlation group')\n",
    "\n",
    "plt.show()"
   ]
  },
  {
   "cell_type": "markdown",
   "metadata": {},
   "source": [
    "Since all of the word frequencies(x-variables) have almost no correlation with whether the email being spam or not (y), it can be concluded that the x-variables are not independent among each other. The x-variables are most likely dependant among each other.\n",
    "\n",
    "##### Scaling"
   ]
  },
  {
   "cell_type": "code",
   "execution_count": 7,
   "metadata": {},
   "outputs": [],
   "source": [
    "from sklearn.preprocessing import MaxAbsScaler\n",
    "\n",
    "mas = MaxAbsScaler()\n",
    "mas.fit(xTrain_cv)\n",
    "xTrainScaled = mas.transform(xTrain_cv)\n",
    "xTestScaled = mas.transform(xTest_cv)"
   ]
  },
  {
   "cell_type": "markdown",
   "metadata": {},
   "source": [
    "### Modelling Data"
   ]
  },
  {
   "cell_type": "code",
   "execution_count": 8,
   "metadata": {},
   "outputs": [],
   "source": [
    "def modelData(model, scaled=True):\n",
    "  x = xTrainScaled if scaled else xTrain_cv\n",
    "  y = yTrain\n",
    "  model.fit(x,y)\n",
    "  return model"
   ]
  },
  {
   "cell_type": "code",
   "execution_count": 9,
   "metadata": {},
   "outputs": [],
   "source": [
    "def display_score(trained_model, scaled = True):\n",
    "  x = xTestScaled if scaled else xTest_cv\n",
    "  y = yTest\n",
    "  y_pred = trained_model.predict(x)\n",
    "  acc = trained_model.score(x, y)\n",
    "  prec = precision_score(y, y_pred)\n",
    "  f1scre = f1_score(y, y_pred)\n",
    "  recal = recall_score(y, y_pred)\n",
    "\n",
    "  print(f\"Accuracy: {acc}\\nPrecision: {prec}\\nF1 Score: {f1scre}\\nRecall Score: {recal}\")"
   ]
  },
  {
   "cell_type": "code",
   "execution_count": 10,
   "metadata": {},
   "outputs": [],
   "source": [
    "customTests = [\n",
    "  \"Hello sir! When is the deadline for CSE422 project report submission?\",\n",
    "  \"Dear Students, The University is happy to offer a student transport service and wishes to keep the price as low as feasible while covering the cost of the service. You all know that the price of fuel has increased significantly: the price of diesel has increased by 42.5% (Previous price- Tk.80, New price Tk.114).Bus fares have already been raised across the country. Despite the increase in the fuel price, the University will keep the student transport fares unchanged for the remainder of the current semester. There will be a need, however, to increase the fare to Tk. 90 from Tk.70 with effect from the start of the fall semester. The University hopes that you will understand the pressures that have led to this change. Best regards, Office of the Registrar\",\n",
    "  \"ONLY BOYS CHECK MY BIO 😳🔞\",\n",
    "  \"Click here to get free discord nitro\"\n",
    "  ]\n",
    "customTests_cv = cv.transform(customTests)\n",
    "customTestsScaled = mas.transform(customTests_cv)\n",
    "\n",
    "def getCustomTestResults(model, scaled=True):\n",
    "\n",
    "  results = model.predict(customTestsScaled if scaled else customTests_cv)\n",
    "  assert len(results) == len(customTests), f\"length of results, {len(results)} and tests, {len(customTests)} are unequal\"\n",
    "  for i in range(len(results)):\n",
    "    spam = \"spam\" if results[i] == 1 else \"ok\"\n",
    "    if len(customTests[i]) > 80:\n",
    "      print(f\"{spam}  -->  \\\"{customTests[i][0:35]} ... {customTests[i][-35:]}\\\"\")\n",
    "    else:\n",
    "      print(f\"{spam}  -->  \\\"{customTests[i]}\\\"\")"
   ]
  },
  {
   "cell_type": "markdown",
   "metadata": {},
   "source": [
    "##### Multinomial Naive Bayes"
   ]
  },
  {
   "cell_type": "code",
   "execution_count": 11,
   "metadata": {},
   "outputs": [
    {
     "name": "stdout",
     "output_type": "stream",
     "text": [
      "Accuracy: 0.9692712906057945\n",
      "Precision: 0.9917695473251029\n",
      "F1 Score: 0.9323017408123792\n",
      "Recall Score: 0.8795620437956204\n",
      "ok  -->  \"Hello sir! When is the deadline for CSE422 project report submission?\"\n",
      "ok  -->  \"Dear Students, The University is ha ... st regards, Office of the Registrar\"\n",
      "ok  -->  \"ONLY BOYS CHECK MY BIO 😳🔞\"\n",
      "ok  -->  \"Click here to get free discord nitro\"\n"
     ]
    }
   ],
   "source": [
    "from sklearn.naive_bayes import MultinomialNB as MNB\n",
    "\n",
    "# scaled\n",
    "mnbModelScaled = modelData(MNB())\n",
    "\n",
    "display_score(mnbModelScaled)\n",
    "\n",
    "getCustomTestResults(mnbModelScaled)"
   ]
  },
  {
   "cell_type": "code",
   "execution_count": 12,
   "metadata": {},
   "outputs": [
    {
     "name": "stdout",
     "output_type": "stream",
     "text": [
      "Accuracy: 0.9885864793678666\n",
      "Precision: 0.981549815498155\n",
      "F1 Score: 0.9761467889908256\n",
      "Recall Score: 0.9708029197080292\n",
      "ok  -->  \"Hello sir! When is the deadline for CSE422 project report submission?\"\n",
      "ok  -->  \"Dear Students, The University is ha ... st regards, Office of the Registrar\"\n",
      "ok  -->  \"ONLY BOYS CHECK MY BIO 😳🔞\"\n",
      "spam  -->  \"Click here to get free discord nitro\"\n"
     ]
    }
   ],
   "source": [
    "mnbModel = modelData(MNB(), False)\n",
    "\n",
    "display_score(mnbModel, False)\n",
    "\n",
    "getCustomTestResults(mnbModel, False)"
   ]
  },
  {
   "cell_type": "markdown",
   "metadata": {},
   "source": [
    "##### Support Vector Classifier"
   ]
  },
  {
   "cell_type": "code",
   "execution_count": 13,
   "metadata": {},
   "outputs": [
    {
     "name": "stdout",
     "output_type": "stream",
     "text": [
      "Accuracy: 0.971027216856892\n",
      "Precision: 0.9725490196078431\n",
      "F1 Score: 0.9376181474480152\n",
      "Recall Score: 0.9051094890510949\n",
      "ok  -->  \"Hello sir! When is the deadline for CSE422 project report submission?\"\n",
      "ok  -->  \"Dear Students, The University is ha ... st regards, Office of the Registrar\"\n",
      "ok  -->  \"ONLY BOYS CHECK MY BIO 😳🔞\"\n",
      "ok  -->  \"Click here to get free discord nitro\"\n"
     ]
    }
   ],
   "source": [
    "from sklearn.svm import SVC\n",
    "\n",
    "# scaled\n",
    "svcModelScaled = modelData( SVC(kernel=\"linear\") )\n",
    "\n",
    "display_score(svcModelScaled )\n",
    "\n",
    "getCustomTestResults(svcModelScaled )"
   ]
  },
  {
   "cell_type": "code",
   "execution_count": 14,
   "metadata": {},
   "outputs": [
    {
     "name": "stdout",
     "output_type": "stream",
     "text": [
      "Accuracy: 0.9859525899912204\n",
      "Precision: 0.9708029197080292\n",
      "F1 Score: 0.9708029197080292\n",
      "Recall Score: 0.9708029197080292\n",
      "ok  -->  \"Hello sir! When is the deadline for CSE422 project report submission?\"\n",
      "ok  -->  \"Dear Students, The University is ha ... st regards, Office of the Registrar\"\n",
      "ok  -->  \"ONLY BOYS CHECK MY BIO 😳🔞\"\n",
      "spam  -->  \"Click here to get free discord nitro\"\n"
     ]
    }
   ],
   "source": [
    "svcModel = modelData( SVC(kernel=\"linear\") , False)\n",
    "\n",
    "display_score(svcModel, False)\n",
    "\n",
    "getCustomTestResults(svcModel, False)"
   ]
  },
  {
   "cell_type": "markdown",
   "metadata": {},
   "source": [
    "##### Random Forest Classifier"
   ]
  },
  {
   "cell_type": "code",
   "execution_count": 15,
   "metadata": {},
   "outputs": [
    {
     "name": "stdout",
     "output_type": "stream",
     "text": [
      "Accuracy: 0.961369622475856\n",
      "Precision: 0.9914529914529915\n",
      "F1 Score: 0.9133858267716537\n",
      "Recall Score: 0.8467153284671532\n",
      "ok  -->  \"Hello sir! When is the deadline for CSE422 project report submission?\"\n",
      "ok  -->  \"Dear Students, The University is ha ... st regards, Office of the Registrar\"\n",
      "ok  -->  \"ONLY BOYS CHECK MY BIO 😳🔞\"\n",
      "spam  -->  \"Click here to get free discord nitro\"\n"
     ]
    }
   ],
   "source": [
    "from sklearn.ensemble import RandomForestClassifier as RFC\n",
    "\n",
    "# scaled\n",
    "rfcModelScaled = modelData(RFC(n_estimators=50))\n",
    "\n",
    "display_score(rfcModelScaled)\n",
    "\n",
    "getCustomTestResults(rfcModelScaled)"
   ]
  },
  {
   "cell_type": "code",
   "execution_count": 16,
   "metadata": {},
   "outputs": [
    {
     "name": "stdout",
     "output_type": "stream",
     "text": [
      "Accuracy: 0.9701492537313433\n",
      "Precision: 0.9918032786885246\n",
      "F1 Score: 0.9343629343629344\n",
      "Recall Score: 0.8832116788321168\n",
      "ok  -->  \"Hello sir! When is the deadline for CSE422 project report submission?\"\n",
      "ok  -->  \"Dear Students, The University is ha ... st regards, Office of the Registrar\"\n",
      "ok  -->  \"ONLY BOYS CHECK MY BIO 😳🔞\"\n",
      "spam  -->  \"Click here to get free discord nitro\"\n"
     ]
    }
   ],
   "source": [
    "rfcModel = modelData(RFC(n_estimators=50), False)\n",
    "\n",
    "display_score(rfcModel, False)\n",
    "\n",
    "getCustomTestResults(rfcModel, False)"
   ]
  }
 ],
 "metadata": {
  "kernelspec": {
   "display_name": "Python 3 (ipykernel)",
   "language": "python",
   "name": "python3"
  },
  "language_info": {
   "codemirror_mode": {
    "name": "ipython",
    "version": 3
   },
   "file_extension": ".py",
   "mimetype": "text/x-python",
   "name": "python",
   "nbconvert_exporter": "python",
   "pygments_lexer": "ipython3",
   "version": "3.10.5"
  },
  "vscode": {
   "interpreter": {
    "hash": "369f2c481f4da34e4445cda3fffd2e751bd1c4d706f27375911949ba6bb62e1c"
   }
  }
 },
 "nbformat": 4,
 "nbformat_minor": 2
}
